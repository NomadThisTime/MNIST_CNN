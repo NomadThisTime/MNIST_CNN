{
 "cells": [
  {
   "cell_type": "markdown",
   "metadata": {
    "_uuid": "8c80a83f7fb1ab87aabbdad97d11627fb0380e8f"
   },
   "source": [
    "# Convolutional Neural Network (CNN) on MNIST dataset\n",
    "## Jakub Kostrzębski"
   ]
  },
  {
   "cell_type": "markdown",
   "metadata": {
    "_cell_guid": "79c7e3d0-c299-4dcb-8224-4455121ee9b0",
    "_uuid": "d629ff2d2480ee46fbb7e2d37f6b5fab8052498a",
    "pycharm": {
     "name": "#%% md\n"
    }
   },
   "source": [
    "<a id=\"1\"></a>\n",
    "## Importing Basic Packages"
   ]
  },
  {
   "cell_type": "code",
   "execution_count": 1,
   "metadata": {
    "_cell_guid": "b1076dfc-b9ad-4769-8c92-a6c4dae69d19",
    "_uuid": "8f2839f25d086af736a60e9eeb907d3b93b6e0e5",
    "pycharm": {
     "name": "#%%\n"
    }
   },
   "outputs": [],
   "source": [
    "import numpy as np\n",
    "import pandas as pd\n",
    "import seaborn as sns\n",
    "import matplotlib.pyplot as plt\n",
    "import random\n",
    "import os\n",
    "os. getcwd()\n",
    "import warnings\n",
    "warnings.filterwarnings('ignore')"
   ]
  },
  {
   "cell_type": "markdown",
   "metadata": {
    "_cell_guid": "79c7e3d0-c299-4dcb-8224-4455121ee9b0",
    "_uuid": "d629ff2d2480ee46fbb7e2d37f6b5fab8052498a",
    "pycharm": {
     "name": "#%% md\n"
    }
   },
   "source": [
    "<a id=\"1\"></a>\n",
    "## Loading the Data Set\n",
    "* In this part we load and visualize the data."
   ]
  },
  {
   "cell_type": "code",
   "execution_count": 2,
   "metadata": {
    "_uuid": "6884db4361a209f639cd6f3bf15231d271ecf563"
   },
   "outputs": [
    {
     "name": "stdout",
     "output_type": "stream",
     "text": [
      "(42000, 785)\n"
     ]
    },
    {
     "data": {
      "text/html": [
       "<div>\n",
       "<style scoped>\n",
       "    .dataframe tbody tr th:only-of-type {\n",
       "        vertical-align: middle;\n",
       "    }\n",
       "\n",
       "    .dataframe tbody tr th {\n",
       "        vertical-align: top;\n",
       "    }\n",
       "\n",
       "    .dataframe thead th {\n",
       "        text-align: right;\n",
       "    }\n",
       "</style>\n",
       "<table border=\"1\" class=\"dataframe\">\n",
       "  <thead>\n",
       "    <tr style=\"text-align: right;\">\n",
       "      <th></th>\n",
       "      <th>label</th>\n",
       "      <th>pixel0</th>\n",
       "      <th>pixel1</th>\n",
       "      <th>pixel2</th>\n",
       "      <th>pixel3</th>\n",
       "      <th>pixel4</th>\n",
       "      <th>pixel5</th>\n",
       "      <th>pixel6</th>\n",
       "      <th>pixel7</th>\n",
       "      <th>pixel8</th>\n",
       "      <th>...</th>\n",
       "      <th>pixel774</th>\n",
       "      <th>pixel775</th>\n",
       "      <th>pixel776</th>\n",
       "      <th>pixel777</th>\n",
       "      <th>pixel778</th>\n",
       "      <th>pixel779</th>\n",
       "      <th>pixel780</th>\n",
       "      <th>pixel781</th>\n",
       "      <th>pixel782</th>\n",
       "      <th>pixel783</th>\n",
       "    </tr>\n",
       "  </thead>\n",
       "  <tbody>\n",
       "    <tr>\n",
       "      <th>0</th>\n",
       "      <td>1</td>\n",
       "      <td>0</td>\n",
       "      <td>0</td>\n",
       "      <td>0</td>\n",
       "      <td>0</td>\n",
       "      <td>0</td>\n",
       "      <td>0</td>\n",
       "      <td>0</td>\n",
       "      <td>0</td>\n",
       "      <td>0</td>\n",
       "      <td>...</td>\n",
       "      <td>0</td>\n",
       "      <td>0</td>\n",
       "      <td>0</td>\n",
       "      <td>0</td>\n",
       "      <td>0</td>\n",
       "      <td>0</td>\n",
       "      <td>0</td>\n",
       "      <td>0</td>\n",
       "      <td>0</td>\n",
       "      <td>0</td>\n",
       "    </tr>\n",
       "    <tr>\n",
       "      <th>1</th>\n",
       "      <td>0</td>\n",
       "      <td>0</td>\n",
       "      <td>0</td>\n",
       "      <td>0</td>\n",
       "      <td>0</td>\n",
       "      <td>0</td>\n",
       "      <td>0</td>\n",
       "      <td>0</td>\n",
       "      <td>0</td>\n",
       "      <td>0</td>\n",
       "      <td>...</td>\n",
       "      <td>0</td>\n",
       "      <td>0</td>\n",
       "      <td>0</td>\n",
       "      <td>0</td>\n",
       "      <td>0</td>\n",
       "      <td>0</td>\n",
       "      <td>0</td>\n",
       "      <td>0</td>\n",
       "      <td>0</td>\n",
       "      <td>0</td>\n",
       "    </tr>\n",
       "    <tr>\n",
       "      <th>2</th>\n",
       "      <td>1</td>\n",
       "      <td>0</td>\n",
       "      <td>0</td>\n",
       "      <td>0</td>\n",
       "      <td>0</td>\n",
       "      <td>0</td>\n",
       "      <td>0</td>\n",
       "      <td>0</td>\n",
       "      <td>0</td>\n",
       "      <td>0</td>\n",
       "      <td>...</td>\n",
       "      <td>0</td>\n",
       "      <td>0</td>\n",
       "      <td>0</td>\n",
       "      <td>0</td>\n",
       "      <td>0</td>\n",
       "      <td>0</td>\n",
       "      <td>0</td>\n",
       "      <td>0</td>\n",
       "      <td>0</td>\n",
       "      <td>0</td>\n",
       "    </tr>\n",
       "    <tr>\n",
       "      <th>3</th>\n",
       "      <td>4</td>\n",
       "      <td>0</td>\n",
       "      <td>0</td>\n",
       "      <td>0</td>\n",
       "      <td>0</td>\n",
       "      <td>0</td>\n",
       "      <td>0</td>\n",
       "      <td>0</td>\n",
       "      <td>0</td>\n",
       "      <td>0</td>\n",
       "      <td>...</td>\n",
       "      <td>0</td>\n",
       "      <td>0</td>\n",
       "      <td>0</td>\n",
       "      <td>0</td>\n",
       "      <td>0</td>\n",
       "      <td>0</td>\n",
       "      <td>0</td>\n",
       "      <td>0</td>\n",
       "      <td>0</td>\n",
       "      <td>0</td>\n",
       "    </tr>\n",
       "    <tr>\n",
       "      <th>4</th>\n",
       "      <td>0</td>\n",
       "      <td>0</td>\n",
       "      <td>0</td>\n",
       "      <td>0</td>\n",
       "      <td>0</td>\n",
       "      <td>0</td>\n",
       "      <td>0</td>\n",
       "      <td>0</td>\n",
       "      <td>0</td>\n",
       "      <td>0</td>\n",
       "      <td>...</td>\n",
       "      <td>0</td>\n",
       "      <td>0</td>\n",
       "      <td>0</td>\n",
       "      <td>0</td>\n",
       "      <td>0</td>\n",
       "      <td>0</td>\n",
       "      <td>0</td>\n",
       "      <td>0</td>\n",
       "      <td>0</td>\n",
       "      <td>0</td>\n",
       "    </tr>\n",
       "  </tbody>\n",
       "</table>\n",
       "<p>5 rows × 785 columns</p>\n",
       "</div>"
      ],
      "text/plain": [
       "   label  pixel0  pixel1  pixel2  pixel3  pixel4  pixel5  pixel6  pixel7  \\\n",
       "0      1       0       0       0       0       0       0       0       0   \n",
       "1      0       0       0       0       0       0       0       0       0   \n",
       "2      1       0       0       0       0       0       0       0       0   \n",
       "3      4       0       0       0       0       0       0       0       0   \n",
       "4      0       0       0       0       0       0       0       0       0   \n",
       "\n",
       "   pixel8  ...  pixel774  pixel775  pixel776  pixel777  pixel778  pixel779  \\\n",
       "0       0  ...         0         0         0         0         0         0   \n",
       "1       0  ...         0         0         0         0         0         0   \n",
       "2       0  ...         0         0         0         0         0         0   \n",
       "3       0  ...         0         0         0         0         0         0   \n",
       "4       0  ...         0         0         0         0         0         0   \n",
       "\n",
       "   pixel780  pixel781  pixel782  pixel783  \n",
       "0         0         0         0         0  \n",
       "1         0         0         0         0  \n",
       "2         0         0         0         0  \n",
       "3         0         0         0         0  \n",
       "4         0         0         0         0  \n",
       "\n",
       "[5 rows x 785 columns]"
      ]
     },
     "execution_count": 2,
     "metadata": {},
     "output_type": "execute_result"
    }
   ],
   "source": [
    "# read the dataset \n",
    "db = pd.read_csv(\"numbers.csv\")\n",
    "print(db.shape)\n",
    "db.head()"
   ]
  },
  {
   "cell_type": "code",
   "execution_count": 3,
   "metadata": {
    "_uuid": "318d94f6e935a6d8210d0ac03707dfa6e3946475"
   },
   "outputs": [],
   "source": [
    "# put labels into y_train variable\n",
    "Y_db = db[\"label\"]\n",
    "# Drop 'label' column\n",
    "X_db = db.drop(labels = [\"label\"],axis = 1) "
   ]
  },
  {
   "cell_type": "code",
   "execution_count": 4,
   "metadata": {
    "_uuid": "8902b0312e6c047596cf27ebba554a68b82604b2"
   },
   "outputs": [
    {
     "data": {
      "text/plain": [
       "Text(0.5, 1.0, 'Number of digit classes')"
      ]
     },
     "execution_count": 4,
     "metadata": {},
     "output_type": "execute_result"
    },
    {
     "data": {
      "image/png": "[encoded data removed]",
      "text/plain": [
       "<Figure size 1080x504 with 1 Axes>"
      ]
     },
     "metadata": {
      "needs_background": "light"
     },
     "output_type": "display_data"
    }
   ],
   "source": [
    "# visualize number of digits classes\n",
    "plt.figure(figsize=(15,7))\n",
    "g = sns.countplot(Y_db, palette=\"icefire\")\n",
    "plt.title(\"Number of digit classes\")\n",
    "#Y_train.value_counts()"
   ]
  },
  {
   "cell_type": "code",
   "execution_count": 7,
   "metadata": {
    "_uuid": "4c9d3a1467cf82a3dff04967a9846906f9758ed4"
   },
   "outputs": [
    {
     "data": {
      "image/png": "[encoded data removed]",
      "text/plain": [
       "<Figure size 432x288 with 1 Axes>"
      ]
     },
     "metadata": {
      "needs_background": "light"
     },
     "output_type": "display_data"
    }
   ],
   "source": [
    "# plot some samples\n",
    "rand = random.randint(0,100)\n",
    "img = X_db.iloc[rand]\n",
    "img = img.values.reshape((28,28))\n",
    "plt.imshow(img,cmap='gray')\n",
    "plt.title(db.iloc[rand,0])\n",
    "plt.show()"
   ]
  },
  {
   "cell_type": "markdown",
   "metadata": {
    "_uuid": "74e341f4845b42101182eda3c990e3dc4dc64dff",
    "pycharm": {
     "name": "#%% md\n"
    }
   },
   "source": [
    "<a id=\"2\"></a>\n",
    "## Normalization, Reshape and Label Encoding \n",
    "* Normalization\n",
    "    * After normalization CNN works faster.\n",
    "* Reshape\n",
    "    * We reshape all data to 28x28x1 3D matrices.\n",
    "    * Keras needs an extra channel dimension. For colours it this would take value of 3 for R,G,B. Our images are gray so it use only one channel. \n",
    "* Label Encoding  \n",
    "    * Encode labels to one hot vectors \n",
    "        * 8 => [0,0,0,0,0,0,0,0,1,0] etc."
   ]
  },
  {
   "cell_type": "code",
   "execution_count": 8,
   "metadata": {
    "_uuid": "f39e537f15757b5da3363c138a33e50bd78bbf49",
    "pycharm": {
     "name": "#%%\n"
    }
   },
   "outputs": [
    {
     "name": "stdout",
     "output_type": "stream",
     "text": [
      "x_db shape:  (42000, 784)\n"
     ]
    }
   ],
   "source": [
    "# Normalize the data\n",
    "X_db = X_db / 255.0\n",
    "print(\"x_db shape: \",X_db.shape)"
   ]
  },
  {
   "cell_type": "code",
   "execution_count": 9,
   "metadata": {
    "_uuid": "d524f6de086928158a76c54d1685a92c1802e230"
   },
   "outputs": [
    {
     "name": "stdout",
     "output_type": "stream",
     "text": [
      "x_train shape:  (42000, 28, 28, 1)\n"
     ]
    }
   ],
   "source": [
    "# Reshape\n",
    "X_db = X_db.values.reshape(-1,28,28,1)\n",
    "print(\"x_train shape: \",X_db.shape)"
   ]
  },
  {
   "cell_type": "code",
   "execution_count": 10,
   "metadata": {
    "_uuid": "d15d35ca439dce194a96f4442c7a1c085ce24d28"
   },
   "outputs": [
    {
     "name": "stdout",
     "output_type": "stream",
     "text": [
      "[[0. 1. 0. ... 0. 0. 0.]\n",
      " [1. 0. 0. ... 0. 0. 0.]\n",
      " [0. 1. 0. ... 0. 0. 0.]\n",
      " ...\n",
      " [0. 0. 0. ... 1. 0. 0.]\n",
      " [0. 0. 0. ... 0. 0. 0.]\n",
      " [0. 0. 0. ... 0. 0. 1.]]\n"
     ]
    }
   ],
   "source": [
    "# Label Encoding\n",
    "from keras.utils.np_utils import to_categorical # convert to one-hot-encoding\n",
    "Y_db = to_categorical(Y_db, num_classes = 10)\n",
    "print(Y_db)"
   ]
  },
  {
   "cell_type": "markdown",
   "metadata": {
    "_uuid": "111d4a1e66d823363f890f892bba39d692479663",
    "pycharm": {
     "name": "#%% md\n"
    }
   },
   "source": [
    "<a id=\"3\"></a>\n",
    "## Train Data Split\n",
    "* We split the data into train and validation sets.\n",
    "* validation size is 20%.\n",
    "* train size is 80%."
   ]
  },
  {
   "cell_type": "code",
   "execution_count": 11,
   "metadata": {
    "_uuid": "882d9dfb1bee94b2ec1e83911e3e334994d74f4b",
    "pycharm": {
     "name": "#%%\n"
    }
   },
   "outputs": [
    {
     "name": "stdout",
     "output_type": "stream",
     "text": [
      "x_train shape (33600, 28, 28, 1)\n",
      "x_test shape (8400, 28, 28, 1)\n",
      "y_train shape (33600, 10)\n",
      "y_test shape (8400, 10)\n"
     ]
    }
   ],
   "source": [
    "# Split the train and the validation set for the fitting\n",
    "from sklearn.model_selection import train_test_split\n",
    "X_train, X_val, Y_train, Y_val = train_test_split(X_db, Y_db, test_size = 0.2, random_state=2)\n",
    "print(\"x_train shape\",X_train.shape)\n",
    "print(\"x_test shape\",X_val.shape)\n",
    "print(\"y_train shape\",Y_train.shape)\n",
    "print(\"y_test shape\",Y_val.shape)"
   ]
  },
  {
   "cell_type": "markdown",
   "metadata": {
    "_uuid": "e87c60e45759e0c52c2b72ee562fdb964c8008d5",
    "pycharm": {
     "name": "#%% md\n"
    }
   },
   "source": [
    "<a id=\"15\"></a>\n",
    "### Data Augmentation\n",
    "* To avoid overfitting problem and to better train the network, we expand the dataset artificially by increaseing/decreasing size of the images by 10%, randomly shifting their place horizontally and vertically by 10%, and randomly rotating them by up to 5 degrees.\n",
    "* For this we use ImageDataGenerator() from keras package."
   ]
  },
  {
   "cell_type": "code",
   "execution_count": 12,
   "metadata": {
    "_uuid": "c339fa7d06e9b73a519ca661bed19de482707d1f"
   },
   "outputs": [],
   "source": [
    "# data augmentation\n",
    "from keras.preprocessing.image import ImageDataGenerator\n",
    "\n",
    "datagen = ImageDataGenerator(\n",
    "        featurewise_center=False,  # set input mean to 0 over the dataset\n",
    "        samplewise_center=False,  # set each sample mean to 0\n",
    "        featurewise_std_normalization=False,  # divide inputs by std of the dataset\n",
    "        samplewise_std_normalization=False,  # divide each input by its std\n",
    "        zca_whitening=False,  # dimesion reduction\n",
    "        rotation_range=5,  # randomly rotate images in the range 5 degrees\n",
    "        zoom_range = 0.1, # Randomly zoom image 10%\n",
    "        width_shift_range=0.1,  # randomly shift images horizontally 10%\n",
    "        height_shift_range=0.1,  # randomly shift images vertically 10%\n",
    "        horizontal_flip=False,  # randomly flip images\n",
    "        vertical_flip=False)  # randomly flip images\n",
    "\n",
    "datagen.fit(X_train)"
   ]
  },
  {
   "cell_type": "markdown",
   "metadata": {
    "_uuid": "fd9feb4c4dadbb8a5cc8a32b5ef582d41b5c0698"
   },
   "source": [
    "<a id=\"11\"></a>\n",
    "## Create Model with Keras\n",
    "* Convolution Operation: reduces size of the image, detects edges and convex shapes.\n",
    "* ReLU: increases nonlinearity\n",
    "* Same padding: similar to convolution operation but does not reduce size of the image. In the early stages of the model we want to preserve more data.\n",
    "* Max Pooling: reduces the amount of parameters and computation in the network. Allows to somewhat control overfitting\n",
    "* Dropout: randomly selected neurons are ignored during training.\n",
    "* conv => max pool => dropout => conv => max pool => dropout => fully connected (2 layer)"
   ]
  },
  {
   "cell_type": "code",
   "execution_count": 13,
   "metadata": {
    "_uuid": "c441d7b3852cee5d3636272d4da2f96b169f81ac",
    "pycharm": {
     "name": "#%%\n"
    }
   },
   "outputs": [],
   "source": [
    "# \n",
    "import itertools\n",
    "\n",
    "from keras.utils.np_utils import to_categorical # convert to one-hot-encoding\n",
    "from keras.models import Sequential, clone_model\n",
    "from keras.layers import Dense, Dropout, Flatten, Conv2D, MaxPool2D\n",
    "from keras.optimizers import RMSprop,Adam\n",
    "from keras.callbacks import ReduceLROnPlateau\n",
    "\n",
    "model1 = Sequential()\n",
    "#\n",
    "model1.add(Conv2D(filters = 8, kernel_size = (5,5),padding = 'Same', \n",
    "                 activation ='relu', input_shape = (28,28,1)))\n",
    "model1.add(MaxPool2D(pool_size=(2,2)))\n",
    "model1.add(Dropout(0.25))\n",
    "#\n",
    "model1.add(Conv2D(filters = 16, kernel_size = (3,3),padding = 'Same', \n",
    "                 activation ='relu'))\n",
    "model1.add(MaxPool2D(pool_size=(2,2), strides=(2,2)))\n",
    "model1.add(Dropout(0.25))\n",
    "# fully connected\n",
    "model1.add(Flatten())\n",
    "model1.add(Dense(256, activation = \"relu\"))\n",
    "model1.add(Dropout(0.5))\n",
    "model1.add(Dense(10, activation = \"softmax\"))\n",
    "\n",
    "# copy models for hyperparameter testing\n",
    "model2 = clone_model(model1)\n",
    "model3 = clone_model(model1)"
   ]
  },
  {
   "cell_type": "markdown",
   "metadata": {
    "_uuid": "91bf542a979c5b191c534876186bf31e70ec7f06"
   },
   "source": [
    "<a id=\"13\"></a>\n",
    "### Compile Model\n",
    "* Loss function of choice: categorical crossentropy"
   ]
  },
  {
   "cell_type": "code",
   "execution_count": 14,
   "metadata": {
    "_uuid": "607a02b42636e3115a1ac7a8edcadf61cf5ea1b0",
    "pycharm": {
     "name": "#%%\n"
    }
   },
   "outputs": [],
   "source": [
    "# Define the optimizer\n",
    "optimizer1 = Adam(lr=0.001, beta_1=0.9, beta_2=0.999) #accuracy: 0.9488 - val_accuracy: 0.9840\n",
    "optimizer2 = Adam(lr=0.005, beta_1=0.9, beta_2=0.999) #accuracy: 0.9612 - val_accuracy: 0.9871\n",
    "optimizer3 = Adam(lr=0.01, beta_1=0.9, beta_2=0.999) #accuracy: 0.9439 - val_accuracy: 0.9821"
   ]
  },
  {
   "cell_type": "code",
   "execution_count": 15,
   "metadata": {
    "_uuid": "0d1eefc68470b4cdcec04c2570651da3d97676d0",
    "pycharm": {
     "name": "#%%\n"
    }
   },
   "outputs": [],
   "source": [
    "# Compile the model\n",
    "model1.compile(optimizer = optimizer1 , loss = \"categorical_crossentropy\", metrics=[\"accuracy\"])\n",
    "model2.compile(optimizer = optimizer2 , loss = \"categorical_crossentropy\", metrics=[\"accuracy\"])\n",
    "model3.compile(optimizer = optimizer3 , loss = \"categorical_crossentropy\", metrics=[\"accuracy\"])"
   ]
  },
  {
   "cell_type": "code",
   "execution_count": 16,
   "metadata": {
    "_uuid": "a237feb5e53ecbc8799101cb6e699877faafde77",
    "pycharm": {
     "name": "#%%\n"
    }
   },
   "outputs": [],
   "source": [
    "# Setting number of epochs and batch size.\n",
    "# Higher number of epochs require more computing power but should produce better results.\n",
    "epochs = 10\n",
    "batch_size = 250"
   ]
  },
  {
   "cell_type": "markdown",
   "metadata": {
    "_uuid": "e42e43f1b3b9e6da0d99dafff8f4a4b514a07f4c"
   },
   "source": [
    "<a id=\"16\"></a>\n",
    "### Fit the model"
   ]
  },
  {
   "cell_type": "code",
   "execution_count": 17,
   "metadata": {
    "_uuid": "4b2957bb8976a25cdbbbdc3110d68c5035a9773c",
    "scrolled": true,
    "pycharm": {
     "name": "#%%\n"
    }
   },
   "outputs": [
    {
     "name": "stdout",
     "output_type": "stream",
     "text": [
      "Epoch 1/10\n",
      "134/134 [==============================] - 7s 49ms/step - loss: 1.1570 - accuracy: 0.6149 - val_loss: 0.2621 - val_accuracy: 0.9302\n",
      "Epoch 2/10\n",
      "134/134 [==============================] - 6s 48ms/step - loss: 0.4622 - accuracy: 0.8541 - val_loss: 0.1443 - val_accuracy: 0.9581\n",
      "Epoch 3/10\n",
      "134/134 [==============================] - 6s 48ms/step - loss: 0.3314 - accuracy: 0.8950 - val_loss: 0.1108 - val_accuracy: 0.9687\n",
      "Epoch 4/10\n",
      "134/134 [==============================] - 7s 48ms/step - loss: 0.2811 - accuracy: 0.9121 - val_loss: 0.0950 - val_accuracy: 0.9707\n",
      "Epoch 5/10\n",
      "134/134 [==============================] - 6s 48ms/step - loss: 0.2547 - accuracy: 0.9208 - val_loss: 0.0825 - val_accuracy: 0.9756\n",
      "Epoch 6/10\n",
      "134/134 [==============================] - 7s 49ms/step - loss: 0.2306 - accuracy: 0.9285 - val_loss: 0.0776 - val_accuracy: 0.9767\n",
      "Epoch 7/10\n",
      "134/134 [==============================] - 7s 49ms/step - loss: 0.2054 - accuracy: 0.9372 - val_loss: 0.0705 - val_accuracy: 0.9774\n",
      "Epoch 8/10\n",
      "134/134 [==============================] - 6s 48ms/step - loss: 0.1954 - accuracy: 0.9398 - val_loss: 0.0656 - val_accuracy: 0.9799\n",
      "Epoch 9/10\n",
      "134/134 [==============================] - 7s 49ms/step - loss: 0.1769 - accuracy: 0.9446 - val_loss: 0.0596 - val_accuracy: 0.9813\n",
      "Epoch 10/10\n",
      "134/134 [==============================] - 7s 49ms/step - loss: 0.1719 - accuracy: 0.9461 - val_loss: 0.0588 - val_accuracy: 0.9825\n",
      "Epoch 1/10\n",
      "134/134 [==============================] - 7s 50ms/step - loss: 0.6840 - accuracy: 0.7727 - val_loss: 0.1138 - val_accuracy: 0.9640\n",
      "Epoch 2/10\n",
      "134/134 [==============================] - 7s 49ms/step - loss: 0.2694 - accuracy: 0.9143 - val_loss: 0.0821 - val_accuracy: 0.9727\n",
      "Epoch 3/10\n",
      "134/134 [==============================] - 7s 49ms/step - loss: 0.2068 - accuracy: 0.9355 - val_loss: 0.0634 - val_accuracy: 0.9796\n",
      "Epoch 4/10\n",
      "134/134 [==============================] - 7s 49ms/step - loss: 0.1890 - accuracy: 0.9423 - val_loss: 0.0510 - val_accuracy: 0.9829\n",
      "Epoch 5/10\n",
      "134/134 [==============================] - 7s 49ms/step - loss: 0.1709 - accuracy: 0.9483 - val_loss: 0.0512 - val_accuracy: 0.9833\n",
      "Epoch 6/10\n",
      "134/134 [==============================] - 7s 48ms/step - loss: 0.1598 - accuracy: 0.9516 - val_loss: 0.0502 - val_accuracy: 0.9830\n",
      "Epoch 7/10\n",
      "134/134 [==============================] - 6s 48ms/step - loss: 0.1457 - accuracy: 0.9558 - val_loss: 0.0512 - val_accuracy: 0.9826\n",
      "Epoch 8/10\n",
      "134/134 [==============================] - 7s 48ms/step - loss: 0.1418 - accuracy: 0.9566 - val_loss: 0.0442 - val_accuracy: 0.9843\n",
      "Epoch 9/10\n",
      "134/134 [==============================] - 6s 48ms/step - loss: 0.1382 - accuracy: 0.9576 - val_loss: 0.0481 - val_accuracy: 0.9845\n",
      "Epoch 10/10\n",
      "134/134 [==============================] - 6s 48ms/step - loss: 0.1356 - accuracy: 0.9582 - val_loss: 0.0439 - val_accuracy: 0.9857\n",
      "Epoch 1/10\n",
      "134/134 [==============================] - 7s 49ms/step - loss: 0.5682 - accuracy: 0.8134 - val_loss: 0.1078 - val_accuracy: 0.9661\n",
      "Epoch 2/10\n",
      "134/134 [==============================] - 6s 48ms/step - loss: 0.2552 - accuracy: 0.9203 - val_loss: 0.0727 - val_accuracy: 0.9774\n",
      "Epoch 3/10\n",
      "134/134 [==============================] - 6s 48ms/step - loss: 0.2302 - accuracy: 0.9297 - val_loss: 0.0710 - val_accuracy: 0.9789\n",
      "Epoch 4/10\n",
      "134/134 [==============================] - 7s 49ms/step - loss: 0.2068 - accuracy: 0.9363 - val_loss: 0.0831 - val_accuracy: 0.9745\n",
      "Epoch 5/10\n",
      "134/134 [==============================] - 7s 49ms/step - loss: 0.1978 - accuracy: 0.9398 - val_loss: 0.0556 - val_accuracy: 0.9820\n",
      "Epoch 6/10\n",
      "134/134 [==============================] - 6s 48ms/step - loss: 0.1854 - accuracy: 0.9436 - val_loss: 0.0556 - val_accuracy: 0.9817\n",
      "Epoch 7/10\n",
      "134/134 [==============================] - 7s 49ms/step - loss: 0.1827 - accuracy: 0.9450 - val_loss: 0.0625 - val_accuracy: 0.9789\n",
      "Epoch 8/10\n",
      "134/134 [==============================] - 6s 48ms/step - loss: 0.1740 - accuracy: 0.9484 - val_loss: 0.0607 - val_accuracy: 0.9810\n",
      "Epoch 9/10\n",
      "134/134 [==============================] - 7s 49ms/step - loss: 0.1692 - accuracy: 0.9495 - val_loss: 0.0600 - val_accuracy: 0.9815\n",
      "Epoch 10/10\n",
      "134/134 [==============================] - 6s 48ms/step - loss: 0.1654 - accuracy: 0.9495 - val_loss: 0.0623 - val_accuracy: 0.9808\n"
     ]
    }
   ],
   "source": [
    "# Fit the model\n",
    "history1 = model1.fit_generator(datagen.flow(X_train,Y_train, batch_size=batch_size),\n",
    "                              epochs = epochs, validation_data = (X_val,Y_val),\n",
    "                              steps_per_epoch=X_train.shape[0] // batch_size)\n",
    "history2 = model2.fit_generator(datagen.flow(X_train,Y_train, batch_size=batch_size),\n",
    "                              epochs = epochs, validation_data = (X_val,Y_val),\n",
    "                              steps_per_epoch=X_train.shape[0] // batch_size)\n",
    "history3 = model3.fit_generator(datagen.flow(X_train,Y_train, batch_size=batch_size),\n",
    "                              epochs = epochs, validation_data = (X_val,Y_val),\n",
    "                              steps_per_epoch=X_train.shape[0] // batch_size)"
   ]
  },
  {
   "cell_type": "markdown",
   "metadata": {
    "pycharm": {
     "name": "#%% md\n"
    }
   },
   "source": [
    "<a id=\"16\"></a>\n",
    "### Loss Visualization for Training and Test Sets\n",
    "* Model 1 (lowest learning rate) has the smoothest curve for val_loss reduction.\n",
    "* Model 2 achieved the lowest loss and highest accuracy for validation data.\n",
    "* Model 3 has the most rocky curve, the optimizer makes big 'jumps' in search of the minima."
   ]
  },
  {
   "cell_type": "code",
   "execution_count": 76,
   "metadata": {
    "pycharm": {
     "name": "#%%\n"
    }
   },
   "outputs": [
    {
     "data": {
      "image/png": "[encoded data removed]",
      "text/plain": [
       "<Figure size 432x288 with 1 Axes>"
      ]
     },
     "metadata": {
      "needs_background": "light"
     },
     "output_type": "display_data"
    }
   ],
   "source": [
    "# Plot the loss curves for validation\n",
    "plt.plot(history1.history['val_loss'], color='b', label=\"Model 1\")\n",
    "plt.plot(history2.history['val_loss'], color='r', label=\"Model 2\")\n",
    "plt.plot(history3.history['val_loss'], color='g', label=\"Model 3\")\n",
    "plt.title(\"Validation Loss\")\n",
    "plt.xlabel(\"Number of Epochs\")\n",
    "plt.ylabel(\"Loss\")\n",
    "plt.legend()\n",
    "plt.show()"
   ]
  },
  {
   "cell_type": "code",
   "execution_count": 80,
   "metadata": {
    "scrolled": false
   },
   "outputs": [
    {
     "data": {
      "image/png": "[encoded data removed]",
      "text/plain": [
       "<Figure size 432x288 with 1 Axes>"
      ]
     },
     "metadata": {
      "needs_background": "light"
     },
     "output_type": "display_data"
    }
   ],
   "source": [
    "# Plot the loss curves for training\n",
    "plt.plot(history1.history['loss'], color='b', label=\"Model 1\")\n",
    "plt.plot(history2.history['loss'], color='r', label=\"Model 2\")\n",
    "plt.plot(history3.history['loss'], color='g', label=\"Model 3\")\n",
    "plt.title(\"Training Loss\")\n",
    "plt.xlabel(\"Number of Epochs\")\n",
    "plt.ylabel(\"Loss\")\n",
    "plt.legend()\n",
    "plt.show()"
   ]
  },
  {
   "cell_type": "markdown",
   "metadata": {},
   "source": [
    "<a id=\"16\"></a>\n",
    "### Confusion Matrix and Test Accuracy\n",
    "* Model 1 accuracy:  0.9825\n",
    "* Model 2 accuracy:  0.9857\n",
    "* Model 3 accuracy:  0.9808"
   ]
  },
  {
   "cell_type": "code",
   "execution_count": 38,
   "metadata": {
    "_uuid": "6586e37bd470db822086e191a90388e7175d504f"
   },
   "outputs": [
    {
     "name": "stdout",
     "output_type": "stream",
     "text": [
      "263/263 [==============================] - 1s 2ms/step\n"
     ]
    },
    {
     "data": {
      "image/png": "[encoded data removed]",
      "text/plain": [
       "<Figure size 576x576 with 2 Axes>"
      ]
     },
     "metadata": {
      "needs_background": "light"
     },
     "output_type": "display_data"
    },
    {
     "name": "stdout",
     "output_type": "stream",
     "text": [
      "Accuracy:  0.9825\n"
     ]
    }
   ],
   "source": [
    "# confusion matrix model 1\n",
    "from sklearn.metrics import confusion_matrix, accuracy_score\n",
    "import seaborn as sns\n",
    "\n",
    "# Predict the values from the validation dataset\n",
    "Y_pred = model1.predict(X_val)\n",
    "# Convert predictions classes to one hot vectors \n",
    "Y_pred_classes = np.argmax(Y_pred,axis = 1)\n",
    "# Convert validation observations to one hot vectors\n",
    "Y_true = np.argmax(Y_val,axis = 1) \n",
    "# compute the confusion matrix\n",
    "confusion_mtx = confusion_matrix(Y_true, Y_pred_classes) \n",
    "# plot the confusion matrix\n",
    "f,ax = plt.subplots(figsize=(8, 8))\n",
    "sns.heatmap(confusion_mtx, annot=True, linewidths=0.01,cmap=\"Greens\",linecolor=\"gray\", fmt= '.1f',ax=ax)\n",
    "plt.xlabel(\"Predicted Label\")\n",
    "plt.ylabel(\"True Label\")\n",
    "plt.title(\"Confusion Matrix\")\n",
    "plt.show()\n",
    "print(\"Accuracy: \", round(accuracy_score(Y_true, Y_pred_classes),4))"
   ]
  },
  {
   "cell_type": "code",
   "execution_count": 39,
   "metadata": {
    "pycharm": {
     "name": "#%%\n"
    }
   },
   "outputs": [
    {
     "name": "stdout",
     "output_type": "stream",
     "text": [
      "263/263 [==============================] - 1s 2ms/step\n"
     ]
    },
    {
     "data": {
      "image/png": "[encoded data removed]",
      "text/plain": [
       "<Figure size 576x576 with 2 Axes>"
      ]
     },
     "metadata": {
      "needs_background": "light"
     },
     "output_type": "display_data"
    },
    {
     "name": "stdout",
     "output_type": "stream",
     "text": [
      "Accuracy:  0.9857\n"
     ]
    }
   ],
   "source": [
    "# confusion matrix model 2\n",
    "\n",
    "# Predict the values from the validation dataset\n",
    "Y_pred = model2.predict(X_val)\n",
    "# Convert predictions classes to one hot vectors \n",
    "Y_pred_classes = np.argmax(Y_pred,axis = 1)\n",
    "# Convert validation observations to one hot vectors\n",
    "Y_true = np.argmax(Y_val,axis = 1) \n",
    "# compute the confusion matrix\n",
    "confusion_mtx = confusion_matrix(Y_true, Y_pred_classes) \n",
    "# plot the confusion matrix\n",
    "f,ax = plt.subplots(figsize=(8, 8))\n",
    "sns.heatmap(confusion_mtx, annot=True, linewidths=0.01,cmap=\"Greens\",linecolor=\"gray\", fmt= '.1f',ax=ax)\n",
    "plt.xlabel(\"Predicted Label\")\n",
    "plt.ylabel(\"True Label\")\n",
    "plt.title(\"Confusion Matrix\")\n",
    "plt.show()\n",
    "print(\"Accuracy: \", round(accuracy_score(Y_true, Y_pred_classes),4))"
   ]
  },
  {
   "cell_type": "code",
   "execution_count": 40,
   "metadata": {},
   "outputs": [
    {
     "name": "stdout",
     "output_type": "stream",
     "text": [
      "263/263 [==============================] - 1s 2ms/step\n"
     ]
    },
    {
     "data": {
      "image/png": "[encoded data removed]",
      "text/plain": [
       "<Figure size 576x576 with 2 Axes>"
      ]
     },
     "metadata": {
      "needs_background": "light"
     },
     "output_type": "display_data"
    },
    {
     "name": "stdout",
     "output_type": "stream",
     "text": [
      "Accuracy:  0.9808\n"
     ]
    }
   ],
   "source": [
    "# confusion matrix model 3\n",
    "\n",
    "# Predict the values from the validation dataset\n",
    "Y_pred = model3.predict(X_val)\n",
    "# Convert predictions classes to one hot vectors \n",
    "Y_pred_classes = np.argmax(Y_pred,axis = 1)\n",
    "# Convert validation observations to one hot vectors\n",
    "Y_true = np.argmax(Y_val,axis = 1) \n",
    "# compute the confusion matrix\n",
    "confusion_mtx = confusion_matrix(Y_true, Y_pred_classes) \n",
    "# plot the confusion matrix\n",
    "f,ax = plt.subplots(figsize=(8, 8))\n",
    "sns.heatmap(confusion_mtx, annot=True, linewidths=0.01,cmap=\"Greens\",linecolor=\"gray\", fmt= '.1f',ax=ax)\n",
    "plt.xlabel(\"Predicted Label\")\n",
    "plt.ylabel(\"True Label\")\n",
    "plt.title(\"Confusion Matrix\")\n",
    "plt.show()\n",
    "print(\"Accuracy: \", round(accuracy_score(Y_true, Y_pred_classes),4))"
   ]
  },
  {
   "cell_type": "markdown",
   "metadata": {
    "_uuid": "9409bc6a7e905d5887c8eec8d056c9f015bf4878",
    "pycharm": {
     "name": "#%% md\n"
    }
   },
   "source": [
    "<a id=\"18\"></a>\n",
    "## Sources\n",
    "* https://www.geeksforgeeks.org/intuition-of-adam-optimizer/#:~:text=Adam%20optimizer%20involves%20a%20combination,minima%20in%20a%20faster%20pace. - optimizer choice\n",
    "* https://machinelearningmastery.com/loss-and-loss-functions-for-training-deep-learning-neural-networks/ - loss function choice\n",
    "* https://stackoverflow.com/questions/4752626/epoch-vs-iteration-when-training-neural-networks - epochs and iterations"
   ]
  }
 ],
 "metadata": {
  "kernelspec": {
   "display_name": "Python 3",
   "language": "python",
   "name": "python3"
  },
  "language_info": {
   "codemirror_mode": {
    "name": "ipython",
    "version": 3
   },
   "file_extension": ".py",
   "mimetype": "text/x-python",
   "name": "python",
   "nbconvert_exporter": "python",
   "pygments_lexer": "ipython3",
   "version": "3.8.6"
  }
 },
 "nbformat": 4,
 "nbformat_minor": 4
}
